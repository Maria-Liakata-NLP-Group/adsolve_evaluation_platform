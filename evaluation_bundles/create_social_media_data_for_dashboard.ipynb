{
 "cells": [
  {
   "cell_type": "code",
   "execution_count": 1,
   "id": "b514aa72",
   "metadata": {},
   "outputs": [],
   "source": [
    "import json"
   ]
  },
  {
   "cell_type": "code",
   "execution_count": 2,
   "id": "3924187a",
   "metadata": {},
   "outputs": [],
   "source": [
    "# import the JSON data\n",
    "with open('social_media_clpsych_llama_evaluation.json', 'r') as file:\n",
    "    llama_data = json.load(file)\n",
    "with open('social_media_clpsych_generic_base_evaluation.json', 'r') as file:\n",
    "    generic_base_data = json.load(file)"
   ]
  },
  {
   "cell_type": "code",
   "execution_count": 3,
   "id": "ea3d9f64",
   "metadata": {},
   "outputs": [],
   "source": [
    "# import summaries\n",
    "with open('clpsych_gold_summaries.json', 'r') as file:\n",
    "    gold_summaries = json.load(file)\n",
    "with open('clpsych_llama_summaries.json', 'r') as file:\n",
    "    llama_summaries = json.load(file)\n",
    "with open('clpsych_generic_base_summaries.json', 'r') as file:\n",
    "    generic_base_summaries = json.load(file)"
   ]
  },
  {
   "cell_type": "code",
   "execution_count": 4,
   "id": "762ead73",
   "metadata": {},
   "outputs": [],
   "source": [
    "metadata = {\n",
    "        \"models\": [\"Llama\", \"Generic Base\"],\n",
    "        \"datasets\": [\"CLPsych 2025\"],\n",
    "        \"metrics\": [\"fc_expert\", \"fc_document\", \"intra_nli\", \"mhic\", \"style_similarity\"],\n",
    "        \"metric_details\": {\n",
    "            \"readability\": \"Readability (Flesch-Kincaid Grade Level)\",\n",
    "            \"fc_expert\": \"Factual Consistency (FC_expert)\",\n",
    "            \"fc_document\": \"Factual Consistency (FC_document)\",\n",
    "            \"intra_nli\": \"Coherence (IntraNLI)\",\n",
    "            \"mhic\": \"(MHIC)\",\n",
    "            \"style_similarity\": \"Style Similarity\",\n",
    "        }\n",
    "    }"
   ]
  },
  {
   "cell_type": "code",
   "execution_count": 5,
   "id": "6605d4b0",
   "metadata": {},
   "outputs": [],
   "source": [
    "data_for_dashboard = {\n",
    "    \"metadata\": metadata,\n",
    "    \"data\": {\n",
    "        \"CLPsych 2025\": {\n",
    "            \"gold_summary\": gold_summaries,\n",
    "            \"Llama\": {\"llm_summary\": llama_summaries,**llama_data},\n",
    "            \"Generic Base\": {\"llm_summary\": generic_base_summaries, **generic_base_data},\n",
    "        }\n",
    "    }\n",
    "}"
   ]
  },
  {
   "cell_type": "code",
   "execution_count": 6,
   "id": "2c34f302",
   "metadata": {},
   "outputs": [],
   "source": [
    "# save the data to a JSON file\n",
    "with open('summarise-social-media-threads.json', 'w') as file:\n",
    "    json.dump(data_for_dashboard, file, indent=4)"
   ]
  }
 ],
 "metadata": {
  "kernelspec": {
   "display_name": "evaluation_mvp",
   "language": "python",
   "name": "python3"
  },
  "language_info": {
   "codemirror_mode": {
    "name": "ipython",
    "version": 3
   },
   "file_extension": ".py",
   "mimetype": "text/x-python",
   "name": "python",
   "nbconvert_exporter": "python",
   "pygments_lexer": "ipython3",
   "version": "3.11.13"
  }
 },
 "nbformat": 4,
 "nbformat_minor": 5
}
