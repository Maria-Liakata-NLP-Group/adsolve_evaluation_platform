{
 "cells": [
  {
   "cell_type": "code",
   "execution_count": 1,
   "id": "e8b76cfb",
   "metadata": {},
   "outputs": [],
   "source": [
    "from metrics.mhic import MHIC\n",
    "import pandas as pd\n",
    "import json\n",
    "import os"
   ]
  },
  {
   "cell_type": "code",
   "execution_count": 3,
   "id": "20f0739b",
   "metadata": {},
   "outputs": [],
   "source": [
    "# import clpsych 2025 timelines \n",
    "CLPSYCH_PATH = \"/import/nlp/datasets/clpsych2025/train\"\n",
    "\n",
    "# iterate through directory and read in all json files\n",
    "clpsych_raw = {}\n",
    "for root, dirs, files in os.walk(CLPSYCH_PATH):\n",
    "    for file in files:\n",
    "        if file.endswith(\".json\"):\n",
    "            with open(os.path.join(root, file), 'r') as f:\n",
    "                clpsych_raw[file.split('.')[0]] = json.load(f)"
   ]
  },
  {
   "cell_type": "code",
   "execution_count": 4,
   "id": "6bca351f",
   "metadata": {},
   "outputs": [],
   "source": [
    "clpsych_posts = {\n",
    "    \"timeline_id\": [],\n",
    "    \"post_id\": [],\n",
    "    \"post\": [],\n",
    "}\n",
    "for timeline in clpsych_raw.values():\n",
    "    for post in timeline[\"posts\"]:\n",
    "        clpsych_posts[\"timeline_id\"].append(timeline[\"timeline_id\"])\n",
    "        clpsych_posts[\"post_id\"].append(post[\"post_id\"])\n",
    "        clpsych_posts[\"post\"].append(post[\"post\"])\n",
    "\n",
    "# create dataframe\n",
    "clpsych_posts_df = pd.DataFrame(clpsych_posts)"
   ]
  },
  {
   "cell_type": "code",
   "execution_count": 5,
   "id": "fcb26d82",
   "metadata": {},
   "outputs": [],
   "source": [
    "# gather timeline summaries\n",
    "clpsych_summaries = {\n",
    "    \"timeline_id\": [],\n",
    "    \"summary\": [],\n",
    "}\n",
    "for timeline in clpsych_raw.values():\n",
    "    clpsych_summaries[\"timeline_id\"].append(timeline[\"timeline_id\"])\n",
    "    clpsych_summaries[\"summary\"].append(timeline[\"timeline_summary\"])\n",
    "\n",
    "clpsych_summaries_df = pd.DataFrame(clpsych_summaries)"
   ]
  },
  {
   "cell_type": "code",
   "execution_count": null,
   "id": "7ae57851",
   "metadata": {},
   "outputs": [],
   "source": [
    "mhic = MHIC()"
   ]
  },
  {
   "cell_type": "code",
   "execution_count": 8,
   "id": "cc43eaab",
   "metadata": {},
   "outputs": [
    {
     "data": {
      "text/plain": [
       "np.float64(0.4285615613063177)"
      ]
     },
     "execution_count": 8,
     "metadata": {},
     "output_type": "execute_result"
    }
   ],
   "source": [
    "# calculate mhic\n",
    "\n",
    "# get posts for first timeline\n",
    "timeline_id = clpsych_posts_df[\"timeline_id\"].iloc[0]\n",
    "summary = clpsych_summaries_df[clpsych_summaries_df[\"timeline_id\"] == timeline_id][\"summary\"].values[0]\n",
    "posts = clpsych_posts_df[clpsych_posts_df[\"timeline_id\"] == timeline_id][\"post\"].values\n",
    "\n",
    "mhic_score = mhic.calculate_metric(summary, posts)\n",
    "mhic_score"
   ]
  }
 ],
 "metadata": {
  "kernelspec": {
   "display_name": "Python 3",
   "language": "python",
   "name": "python3"
  },
  "language_info": {
   "codemirror_mode": {
    "name": "ipython",
    "version": 3
   },
   "file_extension": ".py",
   "mimetype": "text/x-python",
   "name": "python",
   "nbconvert_exporter": "python",
   "pygments_lexer": "ipython3",
   "version": "3.10.14"
  }
 },
 "nbformat": 4,
 "nbformat_minor": 5
}
