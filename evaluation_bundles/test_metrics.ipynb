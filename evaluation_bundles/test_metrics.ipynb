{
 "cells": [
  {
   "cell_type": "code",
   "execution_count": 1,
   "id": "e8b76cfb",
   "metadata": {},
   "outputs": [],
   "source": [
    "from metrics.mhic import MHIC\n",
    "from metrics.intra_nli import IntraNLI\n",
    "from metrics.fc_expert import FCExpert\n",
    "import numpy as np\n",
    "import pandas as pd\n",
    "import json\n",
    "import os"
   ]
  },
  {
   "cell_type": "markdown",
   "id": "a6317893",
   "metadata": {},
   "source": [
    "### Load and prepare CLPSYCH 2025 data"
   ]
  },
  {
   "cell_type": "code",
   "execution_count": 2,
   "id": "20f0739b",
   "metadata": {},
   "outputs": [],
   "source": [
    "# import clpsych 2025 timelines \n",
    "CLPSYCH_PATH = \"/import/nlp/datasets/clpsych2025/train\"\n",
    "\n",
    "# iterate through directory and read in all json files\n",
    "clpsych_raw = {}\n",
    "for root, dirs, files in os.walk(CLPSYCH_PATH):\n",
    "    for file in files:\n",
    "        if file.endswith(\".json\"):\n",
    "            with open(os.path.join(root, file), 'r') as f:\n",
    "                clpsych_raw[file.split('.')[0]] = json.load(f)"
   ]
  },
  {
   "cell_type": "code",
   "execution_count": 3,
   "id": "6bca351f",
   "metadata": {},
   "outputs": [],
   "source": [
    "# create dataframe for posts\n",
    "clpsych_posts = {\n",
    "    \"timeline_id\": [],\n",
    "    \"post_id\": [],\n",
    "    \"post\": [],\n",
    "}\n",
    "for timeline in clpsych_raw.values():\n",
    "    for post in timeline[\"posts\"]:\n",
    "        clpsych_posts[\"timeline_id\"].append(timeline[\"timeline_id\"])\n",
    "        clpsych_posts[\"post_id\"].append(post[\"post_id\"])\n",
    "        clpsych_posts[\"post\"].append(post[\"post\"])\n",
    "\n",
    "\n",
    "clpsych_posts_df = pd.DataFrame(clpsych_posts)"
   ]
  },
  {
   "cell_type": "code",
   "execution_count": 4,
   "id": "fcb26d82",
   "metadata": {},
   "outputs": [],
   "source": [
    "# gather timeline summaries\n",
    "clpsych_summaries = {\n",
    "    \"timeline_id\": [],\n",
    "    \"summary\": [],\n",
    "}\n",
    "for timeline in clpsych_raw.values():\n",
    "    clpsych_summaries[\"timeline_id\"].append(timeline[\"timeline_id\"])\n",
    "    clpsych_summaries[\"summary\"].append(timeline[\"timeline_summary\"])\n",
    "\n",
    "clpsych_summaries_df = pd.DataFrame(clpsych_summaries)"
   ]
  },
  {
   "cell_type": "markdown",
   "id": "f0bc559b",
   "metadata": {},
   "source": [
    "### Calculate MHIC"
   ]
  },
  {
   "cell_type": "code",
   "execution_count": 5,
   "id": "7ae57851",
   "metadata": {},
   "outputs": [],
   "source": [
    "mhic = MHIC()"
   ]
  },
  {
   "cell_type": "code",
   "execution_count": 6,
   "id": "cc43eaab",
   "metadata": {},
   "outputs": [
    {
     "data": {
      "text/plain": [
       "np.float64(0.4285615613063177)"
      ]
     },
     "execution_count": 6,
     "metadata": {},
     "output_type": "execute_result"
    }
   ],
   "source": [
    "# calculate mhic\n",
    "\n",
    "# get posts for first timeline\n",
    "timeline_id = clpsych_posts_df[\"timeline_id\"].iloc[0]\n",
    "summary = clpsych_summaries_df[clpsych_summaries_df[\"timeline_id\"] == timeline_id][\"summary\"].values[0]\n",
    "posts = clpsych_posts_df[clpsych_posts_df[\"timeline_id\"] == timeline_id][\"post\"].values\n",
    "\n",
    "mhic_score = mhic.calculate_metric(summary, posts)\n",
    "mhic_score"
   ]
  },
  {
   "cell_type": "markdown",
   "id": "0f956814",
   "metadata": {},
   "source": [
    "### Calculate Intra NLI"
   ]
  },
  {
   "cell_type": "code",
   "execution_count": 7,
   "id": "69363c1d",
   "metadata": {},
   "outputs": [
    {
     "name": "stderr",
     "output_type": "stream",
     "text": [
      "Some weights of the model checkpoint at ynie/roberta-large-snli_mnli_fever_anli_R1_R2_R3-nli were not used when initializing RobertaForSequenceClassification: ['roberta.pooler.dense.bias', 'roberta.pooler.dense.weight']\n",
      "- This IS expected if you are initializing RobertaForSequenceClassification from the checkpoint of a model trained on another task or with another architecture (e.g. initializing a BertForSequenceClassification model from a BertForPreTraining model).\n",
      "- This IS NOT expected if you are initializing RobertaForSequenceClassification from the checkpoint of a model that you expect to be exactly identical (initializing a BertForSequenceClassification model from a BertForSequenceClassification model).\n"
     ]
    }
   ],
   "source": [
    "intra_nli = IntraNLI()\n"
   ]
  },
  {
   "cell_type": "code",
   "execution_count": 8,
   "id": "aff46d20",
   "metadata": {},
   "outputs": [
    {
     "name": "stderr",
     "output_type": "stream",
     "text": [
      "/homes/sl318/.conda/envs/llm_summarisation/lib/python3.10/site-packages/numpy/_core/fromnumeric.py:3860: RuntimeWarning: Mean of empty slice.\n",
      "  return _methods._mean(a, axis=axis, dtype=dtype,\n",
      "/homes/sl318/.conda/envs/llm_summarisation/lib/python3.10/site-packages/numpy/_core/_methods.py:145: RuntimeWarning: invalid value encountered in scalar divide\n",
      "  ret = ret.dtype.type(ret / rcount)\n"
     ]
    },
    {
     "data": {
      "text/plain": [
       "np.float64(0.8917266097153299)"
      ]
     },
     "execution_count": 8,
     "metadata": {},
     "output_type": "execute_result"
    }
   ],
   "source": [
    "intra_nli_scores = []\n",
    "for row in clpsych_summaries_df.iterrows():\n",
    "    summary = row[1][\"summary\"]\n",
    "    intra_nli_scores.append(intra_nli.calculate_metric(summary))\n",
    "np.nanmean(intra_nli_scores)\n"
   ]
  },
  {
   "cell_type": "markdown",
   "id": "d698858d",
   "metadata": {},
   "source": [
    "### Calculate FC_expert"
   ]
  },
  {
   "cell_type": "code",
   "execution_count": 9,
   "id": "79acad0c",
   "metadata": {},
   "outputs": [],
   "source": [
    "fc_expert = FCExpert()"
   ]
  },
  {
   "cell_type": "code",
   "execution_count": 11,
   "id": "9426aba1",
   "metadata": {},
   "outputs": [
    {
     "data": {
      "text/plain": [
       "np.float64(0.9949385468207765)"
      ]
     },
     "execution_count": 11,
     "metadata": {},
     "output_type": "execute_result"
    }
   ],
   "source": [
    "fc_expert_score = fc_expert.calculate_metric(clpsych_summaries_df.iloc[0][\"summary\"], clpsych_summaries_df.iloc[0][\"summary\"])\n",
    "fc_expert_score"
   ]
  },
  {
   "cell_type": "code",
   "execution_count": null,
   "id": "7d60b100",
   "metadata": {},
   "outputs": [],
   "source": []
  }
 ],
 "metadata": {
  "kernelspec": {
   "display_name": "Python 3",
   "language": "python",
   "name": "python3"
  },
  "language_info": {
   "codemirror_mode": {
    "name": "ipython",
    "version": 3
   },
   "file_extension": ".py",
   "mimetype": "text/x-python",
   "name": "python",
   "nbconvert_exporter": "python",
   "pygments_lexer": "ipython3",
   "version": "3.10.14"
  }
 },
 "nbformat": 4,
 "nbformat_minor": 5
}
