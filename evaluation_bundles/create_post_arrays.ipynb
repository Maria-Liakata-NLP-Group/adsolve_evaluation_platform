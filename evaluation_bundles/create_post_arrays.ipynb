{
 "cells": [
  {
   "cell_type": "code",
   "execution_count": 2,
   "id": "00afd0d3",
   "metadata": {},
   "outputs": [],
   "source": [
    "import json\n",
    "import os"
   ]
  },
  {
   "cell_type": "code",
   "execution_count": 1,
   "id": "50e5b188",
   "metadata": {},
   "outputs": [],
   "source": [
    "# define the document ids\n",
    "document_ids = [\"83997cd4e7\", \"46f4bb3ada\", \"0cac13e357\",  \"5da839acb5\", \"6c9677b482\"]\n",
    "\n",
    "# define dataset root\n",
    "DATASET_ROOT = \"/import/nlp/datasets/clpsych2025/train\""
   ]
  },
  {
   "cell_type": "code",
   "execution_count": 4,
   "id": "262afcde",
   "metadata": {},
   "outputs": [],
   "source": [
    "post_by_id = {}\n",
    "for id in document_ids:\n",
    "    with open(os.path.join(DATASET_ROOT, f\"{id}.json\"), 'r') as f:\n",
    "        data = json.load(f)\n",
    "    posts = [post['post'] for post in data['posts']]\n",
    "    post_by_id[id] = posts"
   ]
  },
  {
   "cell_type": "code",
   "execution_count": 6,
   "id": "532aeeea",
   "metadata": {},
   "outputs": [],
   "source": [
    "# save json\n",
    "with open(\"clpsych_posts.json\", 'w') as f:\n",
    "    json.dump(post_by_id, f)"
   ]
  }
 ],
 "metadata": {
  "kernelspec": {
   "display_name": "evaluation_mvp",
   "language": "python",
   "name": "python3"
  },
  "language_info": {
   "codemirror_mode": {
    "name": "ipython",
    "version": 3
   },
   "file_extension": ".py",
   "mimetype": "text/x-python",
   "name": "python",
   "nbconvert_exporter": "python",
   "pygments_lexer": "ipython3",
   "version": "3.11.13"
  }
 },
 "nbformat": 4,
 "nbformat_minor": 5
}
