{
 "cells": [
  {
   "cell_type": "code",
   "execution_count": 1,
   "id": "ee7ac4c3",
   "metadata": {},
   "outputs": [
    {
     "data": {
      "application/vnd.jupyter.widget-view+json": {
       "model_id": "0a49f936832942b1adc6079dd5a579cd",
       "version_major": 2,
       "version_minor": 0
      },
      "text/plain": [
       "Loading checkpoint shards:   0%|          | 0/4 [00:00<?, ?it/s]"
      ]
     },
     "metadata": {},
     "output_type": "display_data"
    }
   ],
   "source": [
    "from evaluation_bundles.social_media_summarisation_evaluation import SocialMediaSummarisationEvaluationBundle\n",
    "from models.Llama.generate_summary import run_summary_pipeline\n",
    "import os\n",
    "import json"
   ]
  },
  {
   "cell_type": "markdown",
   "id": "768de453",
   "metadata": {},
   "source": [
    "### Load CLPSYCH Dataset"
   ]
  },
  {
   "cell_type": "code",
   "execution_count": 2,
   "id": "8d81fea3",
   "metadata": {},
   "outputs": [],
   "source": [
    "# import clpsych 2025 timelines \n",
    "CLPSYCH_PATH = \"/import/nlp/datasets/clpsych2025/train\"\n",
    "\n",
    "# iterate through directory and read in all json files\n",
    "clpsych_raw = {}\n",
    "for root, dirs, files in os.walk(CLPSYCH_PATH):\n",
    "    for file in files:\n",
    "        if file.endswith(\".json\"):\n",
    "            with open(os.path.join(root, file), 'r') as f:\n",
    "                clpsych_raw[file.split('.')[0]] = json.load(f)"
   ]
  },
  {
   "cell_type": "code",
   "execution_count": 3,
   "id": "bea681dd",
   "metadata": {},
   "outputs": [],
   "source": [
    "# extract posts from clpsych raw data\n",
    "clpsych_posts = {}\n",
    "for id, data in clpsych_raw.items():\n",
    "    posts = [post['post'] for post in data['posts']]\n",
    "    clpsych_posts[id] = posts"
   ]
  },
  {
   "cell_type": "code",
   "execution_count": 4,
   "id": "9705e7e0",
   "metadata": {},
   "outputs": [],
   "source": [
    "# extract gold summaries from clpsych raw data\n",
    "clpsych_gold_summaries = {}\n",
    "for id, data in clpsych_raw.items():\n",
    "    clpsych_gold_summaries[id] = data['timeline_summary']"
   ]
  },
  {
   "cell_type": "markdown",
   "id": "ac693092",
   "metadata": {},
   "source": [
    "### Generate summaries"
   ]
  },
  {
   "cell_type": "code",
   "execution_count": 5,
   "id": "751983d6",
   "metadata": {},
   "outputs": [],
   "source": [
    "# test pipeline with a small subset of clpsych posts\n",
    "clpsych_subset = {k: clpsych_posts[k] for k in list(clpsych_posts.keys())[:3]}  # taking first 10 posts for testing\n",
    "\n",
    "llama_summaries = run_summary_pipeline(clpsych_subset, save_file_name=\"llama_summaries_test1\")"
   ]
  },
  {
   "cell_type": "markdown",
   "id": "dc73dca3",
   "metadata": {},
   "source": [
    "### Run evaluation"
   ]
  },
  {
   "cell_type": "code",
   "execution_count": 6,
   "id": "590a731d",
   "metadata": {},
   "outputs": [
    {
     "name": "stderr",
     "output_type": "stream",
     "text": [
      "Some weights of the model checkpoint at ynie/roberta-large-snli_mnli_fever_anli_R1_R2_R3-nli were not used when initializing RobertaForSequenceClassification: ['roberta.pooler.dense.bias', 'roberta.pooler.dense.weight']\n",
      "- This IS expected if you are initializing RobertaForSequenceClassification from the checkpoint of a model trained on another task or with another architecture (e.g. initializing a BertForSequenceClassification model from a BertForPreTraining model).\n",
      "- This IS NOT expected if you are initializing RobertaForSequenceClassification from the checkpoint of a model that you expect to be exactly identical (initializing a BertForSequenceClassification model from a BertForSequenceClassification model).\n"
     ]
    }
   ],
   "source": [
    "eval = SocialMediaSummarisationEvaluationBundle()"
   ]
  },
  {
   "cell_type": "code",
   "execution_count": 7,
   "id": "195b0132",
   "metadata": {},
   "outputs": [],
   "source": [
    "clpsych_gold_summaries_subset = {k: clpsych_gold_summaries[k] for k in list(clpsych_subset.keys())}  # taking first 10 posts for testing\n",
    "clpsych_posts_subset = {k: clpsych_posts[k] for k in list(clpsych_subset.keys())}  # taking first 10 posts for testing"
   ]
  },
  {
   "cell_type": "code",
   "execution_count": 8,
   "id": "e8c74c6d",
   "metadata": {},
   "outputs": [],
   "source": [
    "evaluation_scores = eval.evaluate(clpsych_posts_subset, llama_summaries, clpsych_gold_summaries_subset)"
   ]
  },
  {
   "cell_type": "code",
   "execution_count": 9,
   "id": "96817627",
   "metadata": {},
   "outputs": [
    {
     "data": {
      "text/plain": [
       "{'mhic': {'timeline_level': [np.float64(0.4254573881626129),\n",
       "   np.float64(0.47104867100715636),\n",
       "   np.float64(0.43497759103775024)],\n",
       "  'mean': np.float64(0.4438278834025065)},\n",
       " 'intra_nli': {'timeline_level': [np.float64(0.9934347617284706),\n",
       "   np.float64(0.9787365111917483),\n",
       "   np.float64(0.8159803093181431)],\n",
       "  'mean': np.float64(0.9293838607461207)},\n",
       " 'fc_expert': {'timeline_level': [np.float64(0.972474127280293),\n",
       "   np.float64(0.9795648178551346),\n",
       "   np.float64(0.6322531652393216)],\n",
       "  'mean': np.float64(0.8614307034582498)},\n",
       " 'timeline_ids': ['46f4bb3ada', '83997cd4e7', '87821f81b9']}"
      ]
     },
     "execution_count": 9,
     "metadata": {},
     "output_type": "execute_result"
    }
   ],
   "source": [
    "evaluation_scores"
   ]
  }
 ],
 "metadata": {
  "kernelspec": {
   "display_name": "Python 3",
   "language": "python",
   "name": "python3"
  },
  "language_info": {
   "codemirror_mode": {
    "name": "ipython",
    "version": 3
   },
   "file_extension": ".py",
   "mimetype": "text/x-python",
   "name": "python",
   "nbconvert_exporter": "python",
   "pygments_lexer": "ipython3",
   "version": "3.10.14"
  }
 },
 "nbformat": 4,
 "nbformat_minor": 5
}
