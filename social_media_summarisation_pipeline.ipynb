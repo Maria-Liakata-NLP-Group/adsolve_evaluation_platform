{
 "cells": [
  {
   "cell_type": "code",
   "execution_count": 1,
   "id": "ee7ac4c3",
   "metadata": {},
   "outputs": [],
   "source": [
    "from evaluation_bundles.social_media_summarisation_evaluation import SocialMediaSummarisationEvaluationBundle\n",
    "from models.generate_summary import run_summary_pipeline\n",
    "import os\n",
    "import json\n",
    "import pandas as pd"
   ]
  },
  {
   "cell_type": "markdown",
   "id": "768de453",
   "metadata": {},
   "source": [
    "### Load CLPSYCH Dataset"
   ]
  },
  {
   "cell_type": "code",
   "execution_count": 2,
   "id": "8d81fea3",
   "metadata": {},
   "outputs": [],
   "source": [
    "# import clpsych 2025 timelines \n",
    "CLPSYCH_PATH = \"/import/nlp/datasets/clpsych2025/train\"\n",
    "\n",
    "# iterate through directory and read in all json files\n",
    "clpsych_raw = {}\n",
    "for root, dirs, files in os.walk(CLPSYCH_PATH):\n",
    "    for file in files:\n",
    "        if file.endswith(\".json\"):\n",
    "            with open(os.path.join(root, file), 'r') as f:\n",
    "                clpsych_raw[file.split('.')[0]] = json.load(f)"
   ]
  },
  {
   "cell_type": "code",
   "execution_count": 3,
   "id": "bea681dd",
   "metadata": {},
   "outputs": [],
   "source": [
    "# extract posts from clpsych raw data\n",
    "clpsych_posts = {}\n",
    "for id, data in clpsych_raw.items():\n",
    "    posts = [post['post'] for post in data['posts']]\n",
    "    clpsych_posts[id] = posts"
   ]
  },
  {
   "cell_type": "code",
   "execution_count": 4,
   "id": "9705e7e0",
   "metadata": {},
   "outputs": [],
   "source": [
    "# extract gold summaries from clpsych raw data\n",
    "clpsych_gold_summaries = {}\n",
    "for id, data in clpsych_raw.items():\n",
    "    clpsych_gold_summaries[id] = data['timeline_summary']"
   ]
  },
  {
   "cell_type": "markdown",
   "id": "ac693092",
   "metadata": {},
   "source": [
    "### Generate summaries"
   ]
  },
  {
   "cell_type": "code",
   "execution_count": 5,
   "id": "751983d6",
   "metadata": {},
   "outputs": [
    {
     "name": "stdout",
     "output_type": "stream",
     "text": [
      "Using model: meta-llama/Meta-Llama-3.1-8B-Instruct on device: cuda\n"
     ]
    },
    {
     "data": {
      "application/vnd.jupyter.widget-view+json": {
       "model_id": "ee463ef8ad1b42a794c1eccbdf8d9926",
       "version_major": 2,
       "version_minor": 0
      },
      "text/plain": [
       "Loading checkpoint shards:   0%|          | 0/4 [00:00<?, ?it/s]"
      ]
     },
     "metadata": {},
     "output_type": "display_data"
    },
    {
     "name": "stderr",
     "output_type": "stream",
     "text": [
      "Device set to use cuda\n"
     ]
    },
    {
     "name": "stdout",
     "output_type": "stream",
     "text": [
      "Loading existing summaries from llama_summaries_test1.json\n"
     ]
    }
   ],
   "source": [
    "# test pipeline with a small subset of clpsych posts\n",
    "clpsych_subset = {k: clpsych_posts[k] for k in list(clpsych_posts.keys())[:3]}  # taking first 3 posts for testing\n",
    "\n",
    "llama_summaries = run_summary_pipeline(clpsych_subset, model_name=\"llama\", save_file_name=\"llama_summaries_test1\")"
   ]
  },
  {
   "cell_type": "code",
   "execution_count": 6,
   "id": "2b2fd276",
   "metadata": {},
   "outputs": [
    {
     "name": "stdout",
     "output_type": "stream",
     "text": [
      "Using model: google/gemma-3-4b-it on device: cuda\n"
     ]
    },
    {
     "data": {
      "application/vnd.jupyter.widget-view+json": {
       "model_id": "835c9d84b2b94b18971e12a571cb2727",
       "version_major": 2,
       "version_minor": 0
      },
      "text/plain": [
       "Loading checkpoint shards:   0%|          | 0/2 [00:00<?, ?it/s]"
      ]
     },
     "metadata": {},
     "output_type": "display_data"
    },
    {
     "name": "stderr",
     "output_type": "stream",
     "text": [
      "Device set to use cuda\n"
     ]
    },
    {
     "name": "stdout",
     "output_type": "stream",
     "text": [
      "Loading existing summaries from gemma_summaries_test1.json\n"
     ]
    }
   ],
   "source": [
    "gemma_summaries = run_summary_pipeline(clpsych_subset, model_name=\"gemma\", save_file_name=\"gemma_summaries_test1\")"
   ]
  },
  {
   "cell_type": "code",
   "execution_count": 7,
   "id": "7f2c69ba",
   "metadata": {},
   "outputs": [
    {
     "name": "stdout",
     "output_type": "stream",
     "text": [
      "Using model: google/medgemma-4b-it on device: cuda\n"
     ]
    },
    {
     "data": {
      "application/vnd.jupyter.widget-view+json": {
       "model_id": "7bff9a064af44b5d8ee9aafc20c1ccf9",
       "version_major": 2,
       "version_minor": 0
      },
      "text/plain": [
       "Loading checkpoint shards:   0%|          | 0/2 [00:00<?, ?it/s]"
      ]
     },
     "metadata": {},
     "output_type": "display_data"
    },
    {
     "name": "stderr",
     "output_type": "stream",
     "text": [
      "Device set to use cuda\n"
     ]
    },
    {
     "name": "stdout",
     "output_type": "stream",
     "text": [
      "Loading existing summaries from medgemma_summaries_test1.json\n"
     ]
    }
   ],
   "source": [
    "medgemma_summaries = run_summary_pipeline(clpsych_subset, model_name=\"medgemma\", save_file_name=\"medgemma_summaries_test1\")"
   ]
  },
  {
   "cell_type": "markdown",
   "id": "dc73dca3",
   "metadata": {},
   "source": [
    "### Run evaluation"
   ]
  },
  {
   "cell_type": "code",
   "execution_count": 8,
   "id": "590a731d",
   "metadata": {},
   "outputs": [
    {
     "name": "stderr",
     "output_type": "stream",
     "text": [
      "Some weights of the model checkpoint at ynie/roberta-large-snli_mnli_fever_anli_R1_R2_R3-nli were not used when initializing RobertaForSequenceClassification: ['roberta.pooler.dense.bias', 'roberta.pooler.dense.weight']\n",
      "- This IS expected if you are initializing RobertaForSequenceClassification from the checkpoint of a model trained on another task or with another architecture (e.g. initializing a BertForSequenceClassification model from a BertForPreTraining model).\n",
      "- This IS NOT expected if you are initializing RobertaForSequenceClassification from the checkpoint of a model that you expect to be exactly identical (initializing a BertForSequenceClassification model from a BertForSequenceClassification model).\n"
     ]
    }
   ],
   "source": [
    "eval = SocialMediaSummarisationEvaluationBundle()"
   ]
  },
  {
   "cell_type": "code",
   "execution_count": 9,
   "id": "195b0132",
   "metadata": {},
   "outputs": [],
   "source": [
    "clpsych_gold_summaries_subset = {k: clpsych_gold_summaries[k] for k in list(clpsych_subset.keys())}  # taking first 10 posts for testing\n",
    "clpsych_posts_subset = {k: clpsych_posts[k] for k in list(clpsych_subset.keys())}  # taking first 10 posts for testing"
   ]
  },
  {
   "cell_type": "code",
   "execution_count": 10,
   "id": "e8c74c6d",
   "metadata": {},
   "outputs": [],
   "source": [
    "llama_evaluation_scores = eval.evaluate(clpsych_posts_subset, llama_summaries, clpsych_gold_summaries_subset)"
   ]
  },
  {
   "cell_type": "code",
   "execution_count": 11,
   "id": "70e38fa9",
   "metadata": {},
   "outputs": [],
   "source": [
    "gemma_evaluation_scores = eval.evaluate(clpsych_posts_subset, gemma_summaries, clpsych_gold_summaries_subset)"
   ]
  },
  {
   "cell_type": "code",
   "execution_count": 12,
   "id": "ea2d088d",
   "metadata": {},
   "outputs": [],
   "source": [
    "medgemma_evaluation_scores = eval.evaluate(clpsych_posts_subset, medgemma_summaries, clpsych_gold_summaries_subset)"
   ]
  },
  {
   "cell_type": "code",
   "execution_count": 13,
   "id": "96817627",
   "metadata": {},
   "outputs": [],
   "source": [
    "llama_means = {metric: values[\"mean\"] for metric, values in llama_evaluation_scores.items() if metric != 'timeline_ids'}\n",
    "gemma_means = {metric: values[\"mean\"] for metric, values in gemma_evaluation_scores.items() if metric != 'timeline_ids'}\n",
    "medgemma_means = {metric: values[\"mean\"] for metric, values in medgemma_evaluation_scores.items() if metric != 'timeline_ids'}"
   ]
  },
  {
   "cell_type": "code",
   "execution_count": 14,
   "id": "a541afd2",
   "metadata": {},
   "outputs": [
    {
     "data": {
      "text/html": [
       "<div>\n",
       "<style scoped>\n",
       "    .dataframe tbody tr th:only-of-type {\n",
       "        vertical-align: middle;\n",
       "    }\n",
       "\n",
       "    .dataframe tbody tr th {\n",
       "        vertical-align: top;\n",
       "    }\n",
       "\n",
       "    .dataframe thead th {\n",
       "        text-align: right;\n",
       "    }\n",
       "</style>\n",
       "<table border=\"1\" class=\"dataframe\">\n",
       "  <thead>\n",
       "    <tr style=\"text-align: right;\">\n",
       "      <th></th>\n",
       "      <th>Metric</th>\n",
       "      <th>Llama Mean Score</th>\n",
       "      <th>Gemma Mean Score</th>\n",
       "      <th>MedGemma Mean Score</th>\n",
       "    </tr>\n",
       "  </thead>\n",
       "  <tbody>\n",
       "    <tr>\n",
       "      <th>0</th>\n",
       "      <td>mhic</td>\n",
       "      <td>0.443828</td>\n",
       "      <td>0.484211</td>\n",
       "      <td>0.451236</td>\n",
       "    </tr>\n",
       "    <tr>\n",
       "      <th>1</th>\n",
       "      <td>intra_nli</td>\n",
       "      <td>0.929384</td>\n",
       "      <td>0.881270</td>\n",
       "      <td>0.820367</td>\n",
       "    </tr>\n",
       "    <tr>\n",
       "      <th>2</th>\n",
       "      <td>fc_expert</td>\n",
       "      <td>0.861431</td>\n",
       "      <td>0.814347</td>\n",
       "      <td>0.854024</td>\n",
       "    </tr>\n",
       "    <tr>\n",
       "      <th>3</th>\n",
       "      <td>fc_timeline</td>\n",
       "      <td>0.867416</td>\n",
       "      <td>0.872088</td>\n",
       "      <td>0.701479</td>\n",
       "    </tr>\n",
       "    <tr>\n",
       "      <th>4</th>\n",
       "      <td>style_similarity</td>\n",
       "      <td>0.216330</td>\n",
       "      <td>0.166897</td>\n",
       "      <td>0.128565</td>\n",
       "    </tr>\n",
       "    <tr>\n",
       "      <th>5</th>\n",
       "      <td>bert_score</td>\n",
       "      <td>-0.069695</td>\n",
       "      <td>0.016272</td>\n",
       "      <td>-0.137853</td>\n",
       "    </tr>\n",
       "  </tbody>\n",
       "</table>\n",
       "</div>"
      ],
      "text/plain": [
       "             Metric  Llama Mean Score  Gemma Mean Score  MedGemma Mean Score\n",
       "0              mhic          0.443828          0.484211             0.451236\n",
       "1         intra_nli          0.929384          0.881270             0.820367\n",
       "2         fc_expert          0.861431          0.814347             0.854024\n",
       "3       fc_timeline          0.867416          0.872088             0.701479\n",
       "4  style_similarity          0.216330          0.166897             0.128565\n",
       "5        bert_score         -0.069695          0.016272            -0.137853"
      ]
     },
     "execution_count": 14,
     "metadata": {},
     "output_type": "execute_result"
    }
   ],
   "source": [
    "scores_df = pd.DataFrame({\n",
    "    'Metric': list(llama_means.keys()),\n",
    "    'Llama Mean Score': list(llama_means.values()),\n",
    "    'Gemma Mean Score': list(gemma_means.values()),\n",
    "    'MedGemma Mean Score': list(medgemma_means.values())\n",
    "})\n",
    "scores_df"
   ]
  },
  {
   "cell_type": "code",
   "execution_count": null,
   "id": "943dee44",
   "metadata": {},
   "outputs": [],
   "source": []
  }
 ],
 "metadata": {
  "kernelspec": {
   "display_name": "Python 3",
   "language": "python",
   "name": "python3"
  },
  "language_info": {
   "codemirror_mode": {
    "name": "ipython",
    "version": 3
   },
   "file_extension": ".py",
   "mimetype": "text/x-python",
   "name": "python",
   "nbconvert_exporter": "python",
   "pygments_lexer": "ipython3",
   "version": "3.10.17"
  }
 },
 "nbformat": 4,
 "nbformat_minor": 5
}
